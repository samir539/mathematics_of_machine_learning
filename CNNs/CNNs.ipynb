{
 "cells": [
  {
   "cell_type": "markdown",
   "id": "491b80bd",
   "metadata": {},
   "source": [
    "We look to\n",
    "- Build a convolutional neural network using PyTorch\n",
    "- Analyse what individual layers in a convolutional neural network have learned through a data reconstruction."
   ]
  },
  {
   "cell_type": "markdown",
   "id": "2ffb8600",
   "metadata": {},
   "source": [
    "# Loading the libraries and dataset"
   ]
  },
  {
   "cell_type": "code",
   "execution_count": 1,
   "id": "f35648e3",
   "metadata": {},
   "outputs": [],
   "source": [
    "# Let's load the usual libraries\n",
    "import numpy as np\n",
    "import torch\n",
    "import torchvision\n",
    "import torchvision.transforms as transforms\n",
    "import matplotlib.pyplot as plt"
   ]
  },
  {
   "cell_type": "markdown",
   "id": "ba2c32e2",
   "metadata": {},
   "source": [
    "For this tutorial, we will use the CIFAR10 dataset. It has the classes: ‘airplane’, ‘automobile’, ‘bird’, ‘cat’, ‘deer’, ‘dog’, ‘frog’, ‘horse’, ‘ship’, ‘truck’. The images in CIFAR-10 are of size 3x32x32, i.e. 3-channel color images of 32x32 pixels in size."
   ]
  },
  {
   "cell_type": "code",
   "execution_count": 2,
   "id": "0200f8ca",
   "metadata": {},
   "outputs": [
    {
     "name": "stdout",
     "output_type": "stream",
     "text": [
      "Downloading https://www.cs.toronto.edu/~kriz/cifar-10-python.tar.gz to ./data\\cifar-10-python.tar.gz\n"
     ]
    },
    {
     "name": "stderr",
     "output_type": "stream",
     "text": [
      "100.0%\n"
     ]
    },
    {
     "name": "stdout",
     "output_type": "stream",
     "text": [
      "Extracting ./data\\cifar-10-python.tar.gz to ./data\n",
      "Files already downloaded and verified\n"
     ]
    }
   ],
   "source": [
    "transform = transforms.Compose(\n",
    "    [transforms.ToTensor(),\n",
    "     transforms.Normalize((0.5, 0.5, 0.5), (0.5, 0.5, 0.5))])\n",
    "\n",
    "batch_size = 10\n",
    "\n",
    "trainset = torchvision.datasets.CIFAR10(root='./data', train=True,\n",
    "                                        download=True, transform=transform)\n",
    "trainloader = torch.utils.data.DataLoader(trainset, batch_size=batch_size,\n",
    "                                          shuffle=True, num_workers=2)\n",
    "\n",
    "testset = torchvision.datasets.CIFAR10(root='./data', train=False,\n",
    "                                       download=True, transform=transform)\n",
    "testloader = torch.utils.data.DataLoader(testset, batch_size=batch_size,\n",
    "                                         shuffle=False, num_workers=2)\n",
    "\n",
    "classes = ('plane', 'car', 'bird', 'cat',\n",
    "           'deer', 'dog', 'frog', 'horse', 'ship', 'truck')"
   ]
  },
  {
   "cell_type": "markdown",
   "id": "6d42b85e",
   "metadata": {},
   "source": [
    "# Implementing convolutions"
   ]
  },
  {
   "cell_type": "markdown",
   "id": "12b3dcec",
   "metadata": {},
   "source": [
    "Let's visualise some of the images and apply some example convolutions to them, just to see what a convolution does. Here I will use numpy's convolution operator. "
   ]
  },
  {
   "cell_type": "code",
   "execution_count": 3,
   "id": "b04ac3d1",
   "metadata": {},
   "outputs": [],
   "source": [
    "# get some random training images; this will load a set of images of size batchsize \n",
    "dataiter = iter(trainloader)\n",
    "images, labels = next(dataiter)\n",
    "img = images[0] # take just the first image; the above thing is an array of images of size batchsize\n",
    "img = img / 2 + 0.5     # unnormalize"
   ]
  },
  {
   "cell_type": "code",
   "execution_count": 4,
   "id": "a74e6716",
   "metadata": {},
   "outputs": [
    {
     "data": {
      "image/png": "[encoded data removed]",
      "text/plain": [
       "<Figure size 640x480 with 1 Axes>"
      ]
     },
     "metadata": {},
     "output_type": "display_data"
    }
   ],
   "source": [
    "# Print the original image\n",
    "npimg = img.numpy() # translate to numpy\n",
    "npimg_t = np.transpose(npimg, (1, 2, 0))\n",
    "plt.imshow(npimg_t)\n",
    "plt.title(str(classes[labels[0]]))\n",
    "plt.show()"
   ]
  },
  {
   "cell_type": "markdown",
   "id": "75eaa968",
   "metadata": {},
   "source": [
    "We define a convolution operator"
   ]
  },
  {
   "cell_type": "code",
   "execution_count": 5,
   "id": "814b7e37",
   "metadata": {},
   "outputs": [],
   "source": [
    "def convolution2d(image, kernel):\n",
    "    m, n = kernel.shape\n",
    "    if (m == n):\n",
    "        y, x = image.shape\n",
    "        y = y - m + 1\n",
    "        x = x - m + 1\n",
    "        new_image = np.zeros((y,x))\n",
    "        for i in range(y):\n",
    "            for j in range(x):\n",
    "                new_image[i][j] = np.sum(image[i:i+m, j:j+m]*kernel) \n",
    "    return new_image"
   ]
  },
  {
   "cell_type": "markdown",
   "id": "3e68ad24",
   "metadata": {},
   "source": [
    "In a color image, we normally have 3 channels: red, green and blue; this way, a color image can be represented as a matrix of dimensions 𝑤×ℎ×𝑐, where 𝑐 is the number of channels, that is, 3 and $w$ is the width and $h$ is the height. Our operation allows for a two-dimensional array; but (check the shape below), our image has 3 dimensions (as is standard for an image). Let us apply the filter (=convolution) to each channel individually. This is the way a neural network will do it as well - only it may use a different filter for each channel. "
   ]
  },
  {
   "cell_type": "code",
   "execution_count": 6,
   "id": "4c42ffdb",
   "metadata": {},
   "outputs": [
    {
     "name": "stdout",
     "output_type": "stream",
     "text": [
      "(32, 32, 3)\n"
     ]
    },
    {
     "data": {
      "image/png": "[encoded data removed]",
      "text/plain": [
       "<Figure size 640x480 with 1 Axes>"
      ]
     },
     "metadata": {},
     "output_type": "display_data"
    }
   ],
   "source": [
    "print(npimg_t.shape)\n",
    "# apply a convolution per each 'channel' of the input with a blurring kernel\n",
    "K = np.array([[0.1111, 0.1111, 0.1111],\n",
    "         [0.1111, 0.1111, 0.1111],\n",
    "         [0.1111, 0.1111, 0.1111]])\n",
    "npimg_conv1 = np.zeros([30,30,3])\n",
    "for it in range(npimg_t.shape[2]):\n",
    "    npimg_conv1[:,:,it] = convolution2d(npimg_t[:,:,it], K)\n",
    "plt.imshow(npimg_conv1)\n",
    "plt.title(str(classes[labels[0]]))\n",
    "plt.show()"
   ]
  },
  {
   "cell_type": "markdown",
   "id": "66ed324b",
   "metadata": {},
   "source": [
    "The image is blurred - as expected. One important thing to consider: we have changed the size of the output. Suppose the input image is of size WxH and the convolution kernel is KxK. Then the output will be of size (W-K+1)x(W-K+1). "
   ]
  },
  {
   "cell_type": "markdown",
   "id": "0fec32da",
   "metadata": {},
   "source": [
    "# Implementing a Convolutional Neural Network"
   ]
  },
  {
   "cell_type": "markdown",
   "id": "d647b5fb",
   "metadata": {},
   "source": [
    "We move on to implementing a convolutional neural network. We will use PyTorch for this (i.e. we won't implement the layers from scratch, although we could: just change the fully-connected layers in the previous week with convolutions). \n",
    "\n",
    "Let x be the input. Our network will have the following structure: \n",
    "1. The input goes into a convolutional layer with 3 input channels, 6 output channels and kernel of size 5x5 followed by a ReLU activation + pooling layer \n",
    "2. The output from the previous operation goes into another convolutional layer with 6 input channels, 16 output channels and a kernel of size 5x5 followed by a ReLU + pooling\n",
    "3. Then there will be two linear layers + ReLU's and a final linear layer. \n",
    "\n",
    "Remember the following:\n",
    "\n",
    "We have an input $I$ of size $[N, C_{in}, H, W]$, where $N$ is the number of images passed through the layer, $C_{in}$ is the number of channels each image has, and $H$ and $W$ are the height and width of the image, respectively. \n",
    "The output is then computed as, \n",
    "$$\n",
    "O[N_n, C_{out_j}, :, :] = b[C_{out_j}] + \\sum_{i=0}^{C_{in}-1} w[C_{out_j},i]*I[N_n, i, :, :].\n",
    "$$\n",
    "\n",
    "We will use PyTorch's Conv2d function to implement the convolution. It has the following arguments: \n",
    "- in_channels: the number of channels of the input\n",
    "- out_channels: the number of channels we want the output to have (i.e. how many times we apply different kernels)\n",
    "- kernel_size: the size of the filter\n",
    "\n",
    "It has some other parameters of which we will use the default modes (and hence we don't specify them):\n",
    "bias = True, stride = 1, padding = 0, dilation = 1. "
   ]
  },
  {
   "cell_type": "code",
   "execution_count": 7,
   "id": "3e8a821d",
   "metadata": {},
   "outputs": [],
   "source": [
    "import torch.nn as nn\n",
    "import torch.nn.functional as F\n",
    "\n",
    "\n",
    "class Net(nn.Module):\n",
    "    # in the init function we will just define several layers that we can later use\n",
    "    def __init__(self):\n",
    "        super().__init__()\n",
    "        # a convolutional layer with 3 input channels, 6 output channels and kernel of size 5x5\n",
    "        self.conv1 = nn.Conv2d(3, 6, 5) \n",
    "        # what is the size of the object after the above convolution? original image is 32x32; after convolution\n",
    "        # it will be 32-5-1 = 28 -> 28x28\n",
    "        # a pooling layer: it 'pools' together 2 of the inputs by keeping only the maximum value \n",
    "        # and uses a stride of 2\n",
    "        self.pool = nn.MaxPool2d(2, stride=2)\n",
    "        # after pooling size is 14x14 (see: https://pytorch.org/docs/stable/generated/torch.nn.MaxPool2d.html)\n",
    "        self.conv2 = nn.Conv2d(6, 16, 5)\n",
    "        self.fc1 = nn.Linear(16 * 5 * 5, 120)\n",
    "        self.fc2 = nn.Linear(120, 84)\n",
    "        self.fc3 = nn.Linear(84, 10)\n",
    "\n",
    "    # here we define the forward pass, i.e. how our input x is modified as it moves through the network\n",
    "    def forward(self, x):\n",
    "        x = self.pool(F.relu(self.conv1(x))) # size after operation: 14x14\n",
    "        x = self.pool(F.relu(self.conv2(x))) # size after operation: (10-1)/2+1=5.5; round down to int is 5\n",
    "        x = torch.flatten(x, 1) # flatten all dimensions except batch; size is 16*5*5\n",
    "        x = F.relu(self.fc1(x))\n",
    "        x = F.relu(self.fc2(x))\n",
    "        x = self.fc3(x)\n",
    "        return x\n",
    "\n",
    "\n",
    "net = Net()"
   ]
  },
  {
   "cell_type": "markdown",
   "id": "1c3aec9e",
   "metadata": {},
   "source": [
    "Define a loss function and optimiser"
   ]
  },
  {
   "cell_type": "code",
   "execution_count": 8,
   "id": "862fe7af",
   "metadata": {},
   "outputs": [],
   "source": [
    "import torch.optim as optim\n",
    "\n",
    "criterion = nn.CrossEntropyLoss()\n",
    "optimizer = optim.SGD(net.parameters(), lr=0.001, momentum=0.9)\n",
    "# As a remark: the CrossEntropyLoss of PyTorch directly applies the softmax to the output, \n",
    "# so no need to pass through softmax first. "
   ]
  },
  {
   "cell_type": "markdown",
   "id": "39ce979c",
   "metadata": {},
   "source": [
    "Let's train the network."
   ]
  },
  {
   "cell_type": "code",
   "execution_count": 9,
   "id": "e3ff2be5",
   "metadata": {},
   "outputs": [
    {
     "name": "stdout",
     "output_type": "stream",
     "text": [
      "0 2.292210102081299\n",
      "1000 2.299266815185547\n",
      "2000 1.9772602319717407\n",
      "3000 1.3491629362106323\n",
      "4000 1.2519137859344482\n",
      "Finished Training\n"
     ]
    }
   ],
   "source": [
    "nr_epochs = 1 # the number of times we iterate over our dataset\n",
    "losses = [] # store the losses\n",
    "\n",
    "for epoch in range(0,nr_epochs):\n",
    "    for i, data in enumerate(trainloader, 0):\n",
    "        # get the inputs; data is a list of [inputs, labels]\n",
    "        images, labels = data\n",
    "        # zero the parameter gradients\n",
    "        optimizer.zero_grad()\n",
    "        # Compute the output for all the images in the batch_size; remember we set a batch_size of 4 in the beginning!\n",
    "        outputs = net(images)\n",
    "        # Compute the loss value\n",
    "        loss = criterion(outputs, labels)\n",
    "        # Compute the gradients\n",
    "        loss.backward()\n",
    "        # Take the optimisation step\n",
    "        optimizer.step()\n",
    "\n",
    "        # print statistics\n",
    "        losses += [loss.item()]\n",
    "        if i % 1000 == 0:    # print every 100 iterations\n",
    "            print(i, loss.item())\n",
    "\n",
    "print('Finished Training')"
   ]
  },
  {
   "cell_type": "markdown",
   "id": "f0e0fb4d",
   "metadata": {},
   "source": [
    "Let us test the network on the unseen (test) data. "
   ]
  },
  {
   "cell_type": "code",
   "execution_count": 10,
   "id": "81799895",
   "metadata": {},
   "outputs": [
    {
     "name": "stdout",
     "output_type": "stream",
     "text": [
      "Accuracy of the network on the test images: 44 %\n"
     ]
    }
   ],
   "source": [
    "correct = 0\n",
    "total = 0\n",
    "\n",
    "with torch.no_grad():\n",
    "    for data in testloader: #iterate over all the test images\n",
    "        images, labels = data\n",
    "        # calculate outputs by running images through the network\n",
    "        outputs = net(images)\n",
    "        # the class with the highest energy is what we choose as prediction\n",
    "        _, predicted = torch.max(outputs.data, 1)\n",
    "        # compute the total number of images processed by adding the number of images in each batch\n",
    "        total += labels.size(0) \n",
    "        correct += (predicted == labels).sum().item()\n",
    "\n",
    "print(f'Accuracy of the network on the test images: {100 * correct // total} %')"
   ]
  },
  {
   "cell_type": "markdown",
   "id": "9b8cb3d8",
   "metadata": {},
   "source": [
    "# Let us try to improve the model accuracy by using a larger model. "
   ]
  },
  {
   "cell_type": "code",
   "execution_count": 11,
   "id": "89789b63",
   "metadata": {},
   "outputs": [],
   "source": [
    "import torch.nn as nn\n",
    "import torch.nn.functional as F\n",
    "\n",
    "\n",
    "class Net(nn.Module):\n",
    "    # in the init function we will just define several layers that we can later use\n",
    "    def __init__(self):\n",
    "        super().__init__()\n",
    "        self.conv1 = nn.Conv2d(3, 64, 3) \n",
    "        self.conv2 = nn.Conv2d(64, 128, 3) \n",
    "        self.conv3 = nn.Conv2d(128, 256, 3) \n",
    "        self.conv4 = nn.Conv2d(256, 256, 3) \n",
    "        self.pool = nn.MaxPool2d(2, stride=2)\n",
    "        self.fc1 = nn.Linear(1024, 120)\n",
    "        self.fc2 = nn.Linear(120, 84)\n",
    "        self.fc3 = nn.Linear(84, 10)\n",
    "\n",
    "    # here we define the forward pass, i.e. how our input x is modified as it moves through the network\n",
    "    def forward(self, x):\n",
    "        x = self.pool(F.relu(self.conv1(x))) \n",
    "        x = self.pool(F.relu(self.conv2(x))) \n",
    "        x = F.relu(self.conv3(x))\n",
    "        x = F.relu(self.conv4(x))\n",
    "        x = torch.flatten(x, 1)\n",
    "        x = F.relu(self.fc1(x))\n",
    "        x = F.relu(self.fc2(x))\n",
    "        x = self.fc3(x)\n",
    "        return x\n",
    "    \n",
    "    # let's also define a method to access a layer of choice's output; we will use this later\n",
    "    def forward_partial(self, x):\n",
    "        x = self.pool(F.relu(self.conv1(x))) \n",
    "        x = self.pool(F.relu(self.conv2(x))) \n",
    "        return x # you can change the partial forward pass to obtain arbitrary layers' output\n",
    "\n",
    "net = Net()"
   ]
  },
  {
   "cell_type": "code",
   "execution_count": 12,
   "id": "8bcb77f7",
   "metadata": {},
   "outputs": [
    {
     "name": "stdout",
     "output_type": "stream",
     "text": [
      "0 2.296440601348877\n",
      "1000 2.3055260181427\n",
      "2000 2.273918867111206\n",
      "3000 2.3649706840515137\n",
      "4000 1.7342989444732666\n",
      "0 2.0947282314300537\n",
      "1000 1.3242589235305786\n",
      "2000 1.688926339149475\n",
      "3000 1.3779022693634033\n",
      "4000 1.2567799091339111\n",
      "0 0.9615778923034668\n",
      "1000 1.273881196975708\n",
      "2000 1.3753794431686401\n",
      "3000 1.2844622135162354\n",
      "4000 1.1719361543655396\n",
      "0 0.7908194661140442\n",
      "1000 1.6219685077667236\n",
      "2000 0.9454994201660156\n",
      "3000 1.021988868713379\n",
      "4000 0.6046391129493713\n",
      "0 0.6561945676803589\n",
      "1000 0.6153956055641174\n",
      "2000 0.6262751221656799\n",
      "3000 0.7995689511299133\n",
      "4000 1.3115423917770386\n",
      "Finished Training\n",
      "Accuracy of the network on the test images: 67 %\n"
     ]
    }
   ],
   "source": [
    "criterion = nn.CrossEntropyLoss()\n",
    "optimizer = optim.SGD(net.parameters(), lr=0.001, momentum=0.9)\n",
    "\n",
    "nr_epochs = 5 # the number of times we iterate over our dataset\n",
    "losses = [] # store the losses\n",
    "\n",
    "for epoch in range(0,nr_epochs):\n",
    "    for i, data in enumerate(trainloader, 0):\n",
    "        # get the inputs; data is a list of [inputs, labels]\n",
    "        images, labels = data\n",
    "        # zero the parameter gradients\n",
    "        optimizer.zero_grad()\n",
    "        # Compute the output for all the images in the batch_size; remember we set a batch_size of 4 in the beginning!\n",
    "        outputs = net(images)\n",
    "        # Compute the loss value\n",
    "        loss = criterion(outputs, labels)\n",
    "        # Compute the gradients\n",
    "        loss.backward()\n",
    "        # Take the optimisation step\n",
    "        optimizer.step()\n",
    "\n",
    "        # print statistics\n",
    "        losses += [loss.item()]\n",
    "        if i % 1000 == 0:    # print every 100 iterations\n",
    "            print(i, loss.item())\n",
    "\n",
    "print('Finished Training')\n",
    "\n",
    "correct = 0\n",
    "total = 0\n",
    "with torch.no_grad():\n",
    "    for data in testloader: #iterate over all the test images\n",
    "        images, labels = data\n",
    "        # calculate outputs by running images through the network\n",
    "        outputs = net(images)\n",
    "        # the class with the highest energy is what we choose as prediction\n",
    "        _, predicted = torch.max(outputs.data, 1)\n",
    "        # compute the total number of images processed by adding the number of images in each batch\n",
    "        total += labels.size(0) \n",
    "        correct += (predicted == labels).sum().item()\n",
    "\n",
    "print(f'Accuracy of the network on the test images: {100 * correct // total} %')"
   ]
  },
  {
   "cell_type": "markdown",
   "id": "bc94f610",
   "metadata": {},
   "source": [
    "# Understanding what our network has learned"
   ]
  },
  {
   "cell_type": "markdown",
   "id": "abec05a6",
   "metadata": {},
   "source": [
    "Now, we would like to understand what the network has actually learned. The work in: https://ai.googleblog.com/2015/06/inceptionism-going-deeper-into-neural.html does something similar, so check it out if you're interested. \n",
    "\n",
    "Consider that we pass a certain image $\\tilde x$ through the network and get the output $z^n$ from the neural network. \n",
    "\n",
    "Based on that output we would like to reconstruct the input to better understand how well our neural network has learned the original image. Denote with $\\hat z^n$ the output from the same layer for some input $x$. \n",
    "\n",
    "Consider then the squared error loss\n",
    "$$\n",
    "\\mathcal{L}(z^n, \\hat z^n) = ||z^n-\\hat z^n||_2^2,\n",
    "$$\n",
    "\n",
    "We will give the network a certain input image $\\tilde x$ and obtain the layer values for that image $z^n$. We assume we only observe $z^n$, but want to *reconstruct* $\\tilde x$. To do that we will optimise over the $x$ that gets us as close as possible to that layer output: \n",
    "$$\n",
    "x^* = \\arg\\min_{x} \\mathcal{L}(z^n, \\hat z^n).\n",
    "$$\n",
    "\n",
    "We will further follow the work of https://arxiv.org/pdf/1412.0035v1.pdf \n",
    "\n",
    "It can be useful to restrict the reconstruction to the subset of natural images - in order to make the above reconstruction better (and easier to interpret). In order to do so, we need to define the properties that natural images have. A proxy used in the above paper is to incorporate in the reconstruction an appropriate image prior. As in the paper, we will try two things: \n",
    "\n",
    "1. the $\\alpha$-norm: $R(x) = ||x||_{\\alpha}^{\\alpha}$ where $x$ is the vectorised and meansubtracted image. With this regularisation we force the image values to stay within a certain range. \n",
    "\n",
    "2. the total variation encouraging images to consist of piece-wise constant patches: $R(x) = \\sum_{i,j} \\left((x_{i,j+1}-x_{ij})^2 + (x_{i+1,j}-x_{ij})^2\\right)^{\\frac{\\beta}{2}}$ where $x\\in\\mathbb{R}^{H\\times W}$ with $H$ the height and $W$ the width. \n",
    "\n",
    "We will add the above terms as regularisers to our loss function. "
   ]
  },
  {
   "cell_type": "code",
   "execution_count": 13,
   "id": "645a029f",
   "metadata": {},
   "outputs": [],
   "source": [
    "# Define our new criteria:\n",
    "def R_1(img, alpha): \n",
    "    img = torch.flatten(img)\n",
    "    R1 = torch.linalg.norm(img, ord=alpha)\n",
    "    return R1\n",
    "\n",
    "def R_2(img, beta):\n",
    "    R2 = torch.sum(torch.pow(torch.flatten(torch.pow(img[:,:,:,1:] - img[:,:,:,:-1], 2)) \\\n",
    "                                + torch.flatten(torch.pow(img[:,:,1:,:] - img[:,:,:-1,:], 2)), beta/2))\n",
    "    return R2\n",
    "\n",
    "# Load a new batch of data\n",
    "dataiter = iter(trainloader)"
   ]
  },
  {
   "cell_type": "markdown",
   "id": "e3e44171",
   "metadata": {},
   "source": [
    "Let us now implement the optimisation scheme. We will begin by initialising a random image, then minimising the loss criterion that we discussed above. "
   ]
  },
  {
   "cell_type": "code",
   "execution_count": 14,
   "id": "9d33b2e0",
   "metadata": {},
   "outputs": [
    {
     "data": {
      "image/png": "[encoded data removed]",
      "text/plain": [
       "<Figure size 640x480 with 1 Axes>"
      ]
     },
     "metadata": {},
     "output_type": "display_data"
    },
    {
     "name": "stdout",
     "output_type": "stream",
     "text": [
      "270.310791015625\n",
      "143.3906707763672\n",
      "143.14181518554688\n",
      "145.05673217773438\n",
      "138.63636779785156\n",
      "138.7136993408203\n",
      "147.17953491210938\n",
      "142.87828063964844\n",
      "143.51852416992188\n",
      "138.2180938720703\n",
      "139.97628784179688\n",
      "140.21817016601562\n",
      "142.04542541503906\n",
      "145.01712036132812\n",
      "138.51220703125\n",
      "143.63140869140625\n",
      "142.9123077392578\n",
      "142.44969177246094\n",
      "144.93138122558594\n",
      "142.404541015625\n"
     ]
    },
    {
     "data": {
      "image/png": "[encoded data removed]",
      "text/plain": [
       "<Figure size 640x480 with 1 Axes>"
      ]
     },
     "metadata": {},
     "output_type": "display_data"
    }
   ],
   "source": [
    "# Get some image\n",
    "images, labels = next(dataiter)\n",
    "img = images[0] # take just the first image; the above thing is an array of images of size batchsize\n",
    "img = img / 2 + 0.5     # unnormalize\n",
    "\n",
    "# Print the original image\n",
    "npimg = img.numpy() # translate to numpy\n",
    "npimg_t = np.transpose(npimg, (1, 2, 0)) # transpose things\n",
    "plt.imshow(npimg_t)\n",
    "plt.title(str(classes[labels[0]]))\n",
    "plt.show()\n",
    "\n",
    "# Pass the image through the network and get the layer output\n",
    "true_out = net.forward_partial(images[0:1,:,:,:])\n",
    "\n",
    "# Optimize the output from the layer for some random input to get close to the output for the original image\n",
    "sample_image = torch.rand(1, 3, 32, 32)\n",
    "sample_image.requires_grad = True \n",
    "nr_its_in = 100000\n",
    "lr = 0.0001\n",
    "for it in range(nr_its_in):\n",
    "    sample_out = net.forward_partial(sample_image)\n",
    "    sample_loss = torch.sum(torch.pow(true_out.detach() - sample_out, 2)) \\\n",
    "            + 0.05 * R_1(sample_image, 6) + 0.1 * R_2(sample_image, beta=2)\n",
    "    sample_loss.backward()\n",
    "    # Perform the gradient step to improve the sample_image\n",
    "    with torch.no_grad():\n",
    "        sample_image -= lr*sample_image.grad #+ 0.001*torch.rand(sample_image.shape)\n",
    "    if it%5000==0:\n",
    "        print(sample_loss.item())\n",
    "\n",
    "# Print reconstructed image\n",
    "numpy_image = sample_image.detach().numpy()\n",
    "# Constrain to the right range\n",
    "numpy_image += np.abs(numpy_image.min())\n",
    "numpy_image /= numpy_image.max()\n",
    "numpy_image = np.transpose(numpy_image[0,:,:,:], (1, 2, 0))\n",
    "plt.imshow(numpy_image)\n",
    "plt.title(classes[labels[0]])\n",
    "plt.show()"
   ]
  },
  {
   "cell_type": "markdown",
   "id": "4189bf26",
   "metadata": {},
   "source": [
    "suppose we are given an output class. Can we then re-compute an input image for that output class? The work in https://arxiv.org/pdf/1312.6034.pdf considers something similar. \n",
    "\n",
    "Suppose we optimize our cross-entropy loss between the output of the final layer and the given class label over the input. "
   ]
  },
  {
   "cell_type": "code",
   "execution_count": 15,
   "id": "26209293",
   "metadata": {},
   "outputs": [
    {
     "name": "stdout",
     "output_type": "stream",
     "text": [
      "Chosen class is cat\n",
      "103.15311431884766\n",
      "54.67209243774414\n",
      "52.125247955322266\n",
      "54.08571243286133\n",
      "53.384765625\n",
      "51.19612121582031\n",
      "54.40280532836914\n",
      "53.4476318359375\n",
      "51.78353500366211\n",
      "50.63306427001953\n",
      "51.75812911987305\n",
      "51.575923919677734\n",
      "51.56303024291992\n",
      "53.94428253173828\n",
      "52.31873321533203\n",
      "51.28984069824219\n",
      "52.25933837890625\n",
      "53.87224197387695\n",
      "51.93329620361328\n",
      "52.183284759521484\n"
     ]
    },
    {
     "data": {
      "image/png": "[encoded data removed]",
      "text/plain": [
       "<Figure size 640x480 with 1 Axes>"
      ]
     },
     "metadata": {},
     "output_type": "display_data"
    }
   ],
   "source": [
    "# Select some class of interest\n",
    "class_interest = 3\n",
    "print('Chosen class is ' + str(classes[class_interest]))\n",
    "\n",
    "# Optimize the random image to get a label close to the original image\n",
    "sample_image = torch.rand(1, 3, 32, 32)\n",
    "sample_image.requires_grad = True \n",
    "nr_its_in = 100000\n",
    "lr = 0.0001\n",
    "for it in range(nr_its_in):\n",
    "    sample_out = net(sample_image)\n",
    "    sample_loss = criterion(sample_out, torch.tensor([class_interest])) \\\n",
    "            + 1 * R_1(sample_image, 6) + 0.1 * R_2(sample_image, beta=2)\n",
    "    sample_loss.backward()\n",
    "    # Perform the gradient step to improve the sample_image\n",
    "    with torch.no_grad():\n",
    "        sample_image -= lr*sample_image.grad #+ 0.001*torch.rand(sample_image.shape)\n",
    "    if it%5000==0:\n",
    "        print(sample_loss.item())\n",
    "\n",
    "# Print reconstructed image\n",
    "numpy_image = sample_image.detach().numpy()\n",
    "# Constrain to the right range\n",
    "numpy_image += np.abs(numpy_image.min())\n",
    "numpy_image /= numpy_image.max()\n",
    "numpy_image = np.transpose(numpy_image[0,:,:,:], (1, 2, 0))\n",
    "plt.imshow(numpy_image)\n",
    "plt.title(classes[class_interest])\n",
    "plt.show()"
   ]
  },
  {
   "cell_type": "markdown",
   "id": "a5b31dba",
   "metadata": {},
   "source": [
    "some patterns are seen"
   ]
  },
  {
   "cell_type": "code",
   "execution_count": null,
   "id": "981fa904",
   "metadata": {},
   "outputs": [],
   "source": []
  }
 ],
 "metadata": {
  "kernelspec": {
   "display_name": "Python 3 (ipykernel)",
   "language": "python",
   "name": "python3"
  },
  "language_info": {
   "codemirror_mode": {
    "name": "ipython",
    "version": 3
   },
   "file_extension": ".py",
   "mimetype": "text/x-python",
   "name": "python",
   "nbconvert_exporter": "python",
   "pygments_lexer": "ipython3",
   "version": "3.10.8"
  }
 },
 "nbformat": 4,
 "nbformat_minor": 5
}
